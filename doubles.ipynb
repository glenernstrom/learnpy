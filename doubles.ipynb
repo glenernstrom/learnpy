{
 "cells": [
  {
   "cell_type": "code",
   "execution_count": null,
   "id": "4360656d-a32a-4309-b7ef-694505520413",
   "metadata": {},
   "outputs": [],
   "source": [
    "# Doubles.py"
   ]
  },
  {
   "cell_type": "markdown",
   "id": "db6a1984-2918-4274-9e4a-ecb2a893ad1a",
   "metadata": {},
   "source": [
    "Double a number then double the product and print it, repeat."
   ]
  },
  {
   "cell_type": "markdown",
   "id": "88d43c3f-3868-45c4-b3c3-14f471882733",
   "metadata": {},
   "source": [
    "We are going to assign a variable, x, to 2 for this case."
   ]
  },
  {
   "cell_type": "code",
   "execution_count": null,
   "id": "4457f714-c645-44be-b0bb-3b90ff629883",
   "metadata": {},
   "outputs": [],
   "source": [
    "x = 2"
   ]
  },
  {
   "cell_type": "markdown",
   "id": "7e9c3469-0358-4596-be24-13794b8d1d0a",
   "metadata": {},
   "source": [
    "Define a function that doubles a number."
   ]
  },
  {
   "cell_type": "code",
   "execution_count": null,
   "id": "13468f61-8672-40a8-bdfd-d1090d017f95",
   "metadata": {},
   "outputs": [],
   "source": [
    "def doubles(x):\n",
    "    doubled = 2 * x\n",
    "    return doubled"
   ]
  },
  {
   "cell_type": "markdown",
   "id": "6bb84e6f-8f1e-4a56-9d29-73be562fc21e",
   "metadata": {},
   "source": [
    "Set up a counter, i, and repeat the doubles function 3 times chaining the output for the next input"
   ]
  },
  {
   "cell_type": "code",
   "execution_count": null,
   "id": "85c6619d-7d2a-4726-b0a0-f50c14ec742d",
   "metadata": {},
   "outputs": [],
   "source": [
    "for i in range(3):\n",
    "     x = doubles(x)\n",
    "     print(x)"
   ]
  }
 ],
 "metadata": {
  "kernelspec": {
   "display_name": "Python 3 (ipykernel)",
   "language": "python",
   "name": "python3"
  },
  "language_info": {
   "codemirror_mode": {
    "name": "ipython",
    "version": 3
   },
   "file_extension": ".py",
   "mimetype": "text/x-python",
   "name": "python",
   "nbconvert_exporter": "python",
   "pygments_lexer": "ipython3",
   "version": "3.13.4"
  }
 },
 "nbformat": 4,
 "nbformat_minor": 5
}
